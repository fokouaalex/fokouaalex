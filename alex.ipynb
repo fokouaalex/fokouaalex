{
 "cells": [
  {
   "cell_type": "code",
   "execution_count": 81,
   "metadata": {},
   "outputs": [
    {
     "name": "stdout",
     "output_type": "stream",
     "text": [
      "hello world\n"
     ]
    }
   ],
   "source": [
    "print(\"hello world\")"
   ]
  },
  {
   "cell_type": "code",
   "execution_count": 82,
   "metadata": {},
   "outputs": [],
   "source": [
    "import numpy as np\n",
    "import matplotlib.pyplot as plt\n",
    "%matplotlib inline"
   ]
  },
  {
   "cell_type": "code",
   "execution_count": 83,
   "metadata": {},
   "outputs": [],
   "source": [
    "x = np.linspace(0, 10, 500)\n",
    "y = np.cumsum(np.random.randn(500, 6, 0))"
   ]
  },
  {
   "cell_type": "code",
   "execution_count": 84,
   "metadata": {},
   "outputs": [],
   "source": [
    "import requests\n",
    "import pandas as pd"
   ]
  },
  {
   "cell_type": "code",
   "execution_count": 85,
   "metadata": {},
   "outputs": [],
   "source": [
    "def get_historic_price(symbol, after='2018-09-01'):\n",
    "    \n",
    "    url = 'https://api.kraken.com/0/public/OHLC'\n",
    "    pair = f\"{symbol.upper()}USD\" # XBTUSD when symbol='xbt' for example\n",
    "    \n",
    "    resp = requests.get(url, params={\n",
    "        \"pair\": pair,\n",
    "        'interval': 60,\n",
    "        'since': str(int(pd.Timestamp(after).timestamp()))\n",
    "    })\n",
    "    resp.raise_for_status()\n",
    "    \n",
    "    data = resp.json()\n",
    "    \n",
    "    results_key = [k for k in data['result'].keys() if k != 'last'][0]\n",
    "    results = [\n",
    "        (close_time, float(open), float(high), float(low), float(close), float(volume))\n",
    "        for (close_time, open, high, low, close, vwap, volume, count)\n",
    "        in data['result'][results_key]\n",
    "    ]\n",
    "    df = pd.DataFrame(results, columns=[\n",
    "        'CloseTime', 'OpenPrice', 'HighPrice', 'LowPrice', 'ClosePrice', 'Volume'\n",
    "    ])\n",
    "    df['CloseTime'] = pd.to_datetime(df['CloseTime'], unit='s')\n",
    "    df.set_index('CloseTime', inplace=True)\n",
    "    return df"
   ]
  },
  {
   "cell_type": "code",
   "execution_count": 86,
   "metadata": {},
   "outputs": [
    {
     "data": {
      "text/plain": [
       "Timestamp('2024-05-29 12:22:01.347437')"
      ]
     },
     "execution_count": 86,
     "metadata": {},
     "output_type": "execute_result"
    }
   ],
   "source": [
    "last_week = (pd.Timestamp.now() - pd.offsets.Day(7))\n",
    "last_week"
   ]
  },
  {
   "cell_type": "code",
   "execution_count": 87,
   "metadata": {},
   "outputs": [],
   "source": [
    "btc = get_historic_price('btc', after=last_week)"
   ]
  },
  {
   "cell_type": "code",
   "execution_count": 88,
   "metadata": {},
   "outputs": [],
   "source": [
    "eth = get_historic_price('eth', after=last_week)"
   ]
  },
  {
   "cell_type": "code",
   "execution_count": 89,
   "metadata": {},
   "outputs": [
    {
     "data": {
      "text/html": [
       "<div>\n",
       "<style scoped>\n",
       "    .dataframe tbody tr th:only-of-type {\n",
       "        vertical-align: middle;\n",
       "    }\n",
       "\n",
       "    .dataframe tbody tr th {\n",
       "        vertical-align: top;\n",
       "    }\n",
       "\n",
       "    .dataframe thead th {\n",
       "        text-align: right;\n",
       "    }\n",
       "</style>\n",
       "<table border=\"1\" class=\"dataframe\">\n",
       "  <thead>\n",
       "    <tr style=\"text-align: right;\">\n",
       "      <th></th>\n",
       "      <th>OpenPrice</th>\n",
       "      <th>HighPrice</th>\n",
       "      <th>LowPrice</th>\n",
       "      <th>ClosePrice</th>\n",
       "      <th>Volume</th>\n",
       "    </tr>\n",
       "  </thead>\n",
       "  <tbody>\n",
       "    <tr>\n",
       "      <th>count</th>\n",
       "      <td>167.000000</td>\n",
       "      <td>167.000000</td>\n",
       "      <td>167.000000</td>\n",
       "      <td>167.000000</td>\n",
       "      <td>167.000000</td>\n",
       "    </tr>\n",
       "    <tr>\n",
       "      <th>mean</th>\n",
       "      <td>68473.380240</td>\n",
       "      <td>68632.088623</td>\n",
       "      <td>68322.579641</td>\n",
       "      <td>68490.895210</td>\n",
       "      <td>61.094422</td>\n",
       "    </tr>\n",
       "    <tr>\n",
       "      <th>std</th>\n",
       "      <td>1050.163849</td>\n",
       "      <td>1092.489767</td>\n",
       "      <td>1036.460474</td>\n",
       "      <td>1064.864228</td>\n",
       "      <td>75.825962</td>\n",
       "    </tr>\n",
       "    <tr>\n",
       "      <th>min</th>\n",
       "      <td>67155.000000</td>\n",
       "      <td>67256.800000</td>\n",
       "      <td>66652.400000</td>\n",
       "      <td>67155.000000</td>\n",
       "      <td>2.096314</td>\n",
       "    </tr>\n",
       "    <tr>\n",
       "      <th>25%</th>\n",
       "      <td>67675.950000</td>\n",
       "      <td>67748.400000</td>\n",
       "      <td>67618.000000</td>\n",
       "      <td>67675.900000</td>\n",
       "      <td>15.759467</td>\n",
       "    </tr>\n",
       "    <tr>\n",
       "      <th>50%</th>\n",
       "      <td>68116.300000</td>\n",
       "      <td>68280.000000</td>\n",
       "      <td>67951.900000</td>\n",
       "      <td>68144.000000</td>\n",
       "      <td>35.341279</td>\n",
       "    </tr>\n",
       "    <tr>\n",
       "      <th>75%</th>\n",
       "      <td>68995.050000</td>\n",
       "      <td>69165.500000</td>\n",
       "      <td>68849.800000</td>\n",
       "      <td>69003.550000</td>\n",
       "      <td>78.238786</td>\n",
       "    </tr>\n",
       "    <tr>\n",
       "      <th>max</th>\n",
       "      <td>71200.800000</td>\n",
       "      <td>71296.000000</td>\n",
       "      <td>71054.500000</td>\n",
       "      <td>71200.700000</td>\n",
       "      <td>468.703368</td>\n",
       "    </tr>\n",
       "  </tbody>\n",
       "</table>\n",
       "</div>"
      ],
      "text/plain": [
       "          OpenPrice     HighPrice      LowPrice    ClosePrice      Volume\n",
       "count    167.000000    167.000000    167.000000    167.000000  167.000000\n",
       "mean   68473.380240  68632.088623  68322.579641  68490.895210   61.094422\n",
       "std     1050.163849   1092.489767   1036.460474   1064.864228   75.825962\n",
       "min    67155.000000  67256.800000  66652.400000  67155.000000    2.096314\n",
       "25%    67675.950000  67748.400000  67618.000000  67675.900000   15.759467\n",
       "50%    68116.300000  68280.000000  67951.900000  68144.000000   35.341279\n",
       "75%    68995.050000  69165.500000  68849.800000  69003.550000   78.238786\n",
       "max    71200.800000  71296.000000  71054.500000  71200.700000  468.703368"
      ]
     },
     "execution_count": 89,
     "metadata": {},
     "output_type": "execute_result"
    }
   ],
   "source": [
    "btc.describe()"
   ]
  },
  {
   "cell_type": "code",
   "execution_count": 90,
   "metadata": {},
   "outputs": [
    {
     "data": {
      "text/html": [
       "<div>\n",
       "<style scoped>\n",
       "    .dataframe tbody tr th:only-of-type {\n",
       "        vertical-align: middle;\n",
       "    }\n",
       "\n",
       "    .dataframe tbody tr th {\n",
       "        vertical-align: top;\n",
       "    }\n",
       "\n",
       "    .dataframe thead th {\n",
       "        text-align: right;\n",
       "    }\n",
       "</style>\n",
       "<table border=\"1\" class=\"dataframe\">\n",
       "  <thead>\n",
       "    <tr style=\"text-align: right;\">\n",
       "      <th></th>\n",
       "      <th>OpenPrice</th>\n",
       "      <th>HighPrice</th>\n",
       "      <th>LowPrice</th>\n",
       "      <th>ClosePrice</th>\n",
       "      <th>Volume</th>\n",
       "    </tr>\n",
       "    <tr>\n",
       "      <th>CloseTime</th>\n",
       "      <th></th>\n",
       "      <th></th>\n",
       "      <th></th>\n",
       "      <th></th>\n",
       "      <th></th>\n",
       "    </tr>\n",
       "  </thead>\n",
       "  <tbody>\n",
       "    <tr>\n",
       "      <th>2024-05-29 13:00:00</th>\n",
       "      <td>67849.8</td>\n",
       "      <td>68140.0</td>\n",
       "      <td>67545.3</td>\n",
       "      <td>67805.2</td>\n",
       "      <td>121.413190</td>\n",
       "    </tr>\n",
       "    <tr>\n",
       "      <th>2024-05-29 14:00:00</th>\n",
       "      <td>67805.3</td>\n",
       "      <td>67849.0</td>\n",
       "      <td>67468.7</td>\n",
       "      <td>67583.7</td>\n",
       "      <td>95.780549</td>\n",
       "    </tr>\n",
       "    <tr>\n",
       "      <th>2024-05-29 15:00:00</th>\n",
       "      <td>67583.6</td>\n",
       "      <td>67749.3</td>\n",
       "      <td>67265.5</td>\n",
       "      <td>67339.2</td>\n",
       "      <td>212.773072</td>\n",
       "    </tr>\n",
       "    <tr>\n",
       "      <th>2024-05-29 16:00:00</th>\n",
       "      <td>67332.9</td>\n",
       "      <td>67594.7</td>\n",
       "      <td>67100.0</td>\n",
       "      <td>67506.0</td>\n",
       "      <td>147.093406</td>\n",
       "    </tr>\n",
       "    <tr>\n",
       "      <th>2024-05-29 17:00:00</th>\n",
       "      <td>67506.0</td>\n",
       "      <td>67583.8</td>\n",
       "      <td>67282.2</td>\n",
       "      <td>67583.7</td>\n",
       "      <td>63.918369</td>\n",
       "    </tr>\n",
       "  </tbody>\n",
       "</table>\n",
       "</div>"
      ],
      "text/plain": [
       "                     OpenPrice  HighPrice  LowPrice  ClosePrice      Volume\n",
       "CloseTime                                                                  \n",
       "2024-05-29 13:00:00    67849.8    68140.0   67545.3     67805.2  121.413190\n",
       "2024-05-29 14:00:00    67805.3    67849.0   67468.7     67583.7   95.780549\n",
       "2024-05-29 15:00:00    67583.6    67749.3   67265.5     67339.2  212.773072\n",
       "2024-05-29 16:00:00    67332.9    67594.7   67100.0     67506.0  147.093406\n",
       "2024-05-29 17:00:00    67506.0    67583.8   67282.2     67583.7   63.918369"
      ]
     },
     "execution_count": 90,
     "metadata": {},
     "output_type": "execute_result"
    }
   ],
   "source": [
    "btc.head()"
   ]
  },
  {
   "cell_type": "code",
   "execution_count": 91,
   "metadata": {},
   "outputs": [
    {
     "name": "stdout",
     "output_type": "stream",
     "text": [
      "<class 'pandas.core.frame.DataFrame'>\n",
      "DatetimeIndex: 167 entries, 2024-05-29 13:00:00 to 2024-06-05 11:00:00\n",
      "Data columns (total 5 columns):\n",
      "OpenPrice     167 non-null float64\n",
      "HighPrice     167 non-null float64\n",
      "LowPrice      167 non-null float64\n",
      "ClosePrice    167 non-null float64\n",
      "Volume        167 non-null float64\n",
      "dtypes: float64(5)\n",
      "memory usage: 7.8 KB\n"
     ]
    }
   ],
   "source": [
    "btc.info()"
   ]
  },
  {
   "cell_type": "code",
   "execution_count": 92,
   "metadata": {},
   "outputs": [
    {
     "data": {
      "text/plain": [
       "<matplotlib.axes._subplots.AxesSubplot at 0x1df24e8a5f8>"
      ]
     },
     "execution_count": 92,
     "metadata": {},
     "output_type": "execute_result"
    },
    {
     "data": {
      "image/png": "[encoded data removed]",
      "text/plain": [
       "<Figure size 1080x504 with 1 Axes>"
      ]
     },
     "metadata": {
      "needs_background": "light"
     },
     "output_type": "display_data"
    }
   ],
   "source": [
    "btc['ClosePrice'].plot(figsize=(15, 7))"
   ]
  },
  {
   "cell_type": "code",
   "execution_count": 93,
   "metadata": {},
   "outputs": [
    {
     "data": {
      "text/html": [
       "<div>\n",
       "<style scoped>\n",
       "    .dataframe tbody tr th:only-of-type {\n",
       "        vertical-align: middle;\n",
       "    }\n",
       "\n",
       "    .dataframe tbody tr th {\n",
       "        vertical-align: top;\n",
       "    }\n",
       "\n",
       "    .dataframe thead th {\n",
       "        text-align: right;\n",
       "    }\n",
       "</style>\n",
       "<table border=\"1\" class=\"dataframe\">\n",
       "  <thead>\n",
       "    <tr style=\"text-align: right;\">\n",
       "      <th></th>\n",
       "      <th>OpenPrice</th>\n",
       "      <th>HighPrice</th>\n",
       "      <th>LowPrice</th>\n",
       "      <th>ClosePrice</th>\n",
       "      <th>Volume</th>\n",
       "    </tr>\n",
       "    <tr>\n",
       "      <th>CloseTime</th>\n",
       "      <th></th>\n",
       "      <th></th>\n",
       "      <th></th>\n",
       "      <th></th>\n",
       "      <th></th>\n",
       "    </tr>\n",
       "  </thead>\n",
       "  <tbody>\n",
       "    <tr>\n",
       "      <th>2024-05-29 13:00:00</th>\n",
       "      <td>3811.99</td>\n",
       "      <td>3834.34</td>\n",
       "      <td>3780.00</td>\n",
       "      <td>3793.96</td>\n",
       "      <td>1091.150330</td>\n",
       "    </tr>\n",
       "    <tr>\n",
       "      <th>2024-05-29 14:00:00</th>\n",
       "      <td>3793.97</td>\n",
       "      <td>3797.47</td>\n",
       "      <td>3760.25</td>\n",
       "      <td>3775.00</td>\n",
       "      <td>681.390188</td>\n",
       "    </tr>\n",
       "    <tr>\n",
       "      <th>2024-05-29 15:00:00</th>\n",
       "      <td>3775.00</td>\n",
       "      <td>3793.68</td>\n",
       "      <td>3750.00</td>\n",
       "      <td>3756.77</td>\n",
       "      <td>1160.040128</td>\n",
       "    </tr>\n",
       "    <tr>\n",
       "      <th>2024-05-29 16:00:00</th>\n",
       "      <td>3756.87</td>\n",
       "      <td>3766.03</td>\n",
       "      <td>3742.74</td>\n",
       "      <td>3763.01</td>\n",
       "      <td>373.726170</td>\n",
       "    </tr>\n",
       "    <tr>\n",
       "      <th>2024-05-29 17:00:00</th>\n",
       "      <td>3763.01</td>\n",
       "      <td>3773.80</td>\n",
       "      <td>3748.29</td>\n",
       "      <td>3762.37</td>\n",
       "      <td>517.555862</td>\n",
       "    </tr>\n",
       "  </tbody>\n",
       "</table>\n",
       "</div>"
      ],
      "text/plain": [
       "                     OpenPrice  HighPrice  LowPrice  ClosePrice       Volume\n",
       "CloseTime                                                                   \n",
       "2024-05-29 13:00:00    3811.99    3834.34   3780.00     3793.96  1091.150330\n",
       "2024-05-29 14:00:00    3793.97    3797.47   3760.25     3775.00   681.390188\n",
       "2024-05-29 15:00:00    3775.00    3793.68   3750.00     3756.77  1160.040128\n",
       "2024-05-29 16:00:00    3756.87    3766.03   3742.74     3763.01   373.726170\n",
       "2024-05-29 17:00:00    3763.01    3773.80   3748.29     3762.37   517.555862"
      ]
     },
     "execution_count": 93,
     "metadata": {},
     "output_type": "execute_result"
    }
   ],
   "source": [
    "eth.head()"
   ]
  },
  {
   "cell_type": "code",
   "execution_count": 94,
   "metadata": {},
   "outputs": [
    {
     "data": {
      "text/plain": [
       "<matplotlib.axes._subplots.AxesSubplot at 0x1df23896ef0>"
      ]
     },
     "execution_count": 94,
     "metadata": {},
     "output_type": "execute_result"
    },
    {
     "data": {
      "image/png": "[encoded data removed]",
      "text/plain": [
       "<Figure size 1080x504 with 1 Axes>"
      ]
     },
     "metadata": {
      "needs_background": "light"
     },
     "output_type": "display_data"
    }
   ],
   "source": [
    "eth['ClosePrice'].plot(figsize=(15, 7))"
   ]
  },
  {
   "cell_type": "code",
   "execution_count": 95,
   "metadata": {},
   "outputs": [],
   "source": [
    "from bokeh.plotting import figure, output_file, show\n",
    "from bokeh.io import output_notebook"
   ]
  },
  {
   "cell_type": "code",
   "execution_count": 96,
   "metadata": {},
   "outputs": [
    {
     "data": {
      "text/html": [
       "\n",
       "    <div class=\"bk-root\">\n",
       "        <a href=\"https://bokeh.pydata.org\" target=\"_blank\" class=\"bk-logo bk-logo-small bk-logo-notebook\"></a>\n",
       "        <span id=\"d5db2743-86a5-4278-a652-bcec060f2cd9\">Loading BokehJS ...</span>\n",
       "    </div>"
      ]
     },
     "metadata": {},
     "output_type": "display_data"
    },
    {
     "data": {
      "application/javascript": "\n(function(root) {\n  function now() {\n    return new Date();\n  }\n\n  var force = true;\n\n  if (typeof (root._bokeh_onload_callbacks) === \"undefined\" || force === true) {\n    root._bokeh_onload_callbacks = [];\n    root._bokeh_is_loading = undefined;\n  }\n\n  var JS_MIME_TYPE = 'application/javascript';\n  var HTML_MIME_TYPE = 'text/html';\n  var EXEC_MIME_TYPE = 'application/vnd.bokehjs_exec.v0+json';\n  var CLASS_NAME = 'output_bokeh rendered_html';\n\n  /**\n   * Render data to the DOM node\n   */\n  function render(props, node) {\n    var script = document.createElement(\"script\");\n    node.appendChild(script);\n  }\n\n  /**\n   * Handle when an output is cleared or removed\n   */\n  function handleClearOutput(event, handle) {\n    var cell = handle.cell;\n\n    var id = cell.output_area._bokeh_element_id;\n    var server_id = cell.output_area._bokeh_server_id;\n    // Clean up Bokeh references\n    if (id != null && id in Bokeh.index) {\n      Bokeh.index[id].model.document.clear();\n      delete Bokeh.index[id];\n    }\n\n    if (server_id !== undefined) {\n      // Clean up Bokeh references\n      var cmd = \"from bokeh.io.state import curstate; print(curstate().uuid_to_server['\" + server_id + \"'].get_sessions()[0].document.roots[0]._id)\";\n      cell.notebook.kernel.execute(cmd, {\n        iopub: {\n          output: function(msg) {\n            var id = msg.content.text.trim();\n            if (id in Bokeh.index) {\n              Bokeh.index[id].model.document.clear();\n              delete Bokeh.index[id];\n            }\n          }\n        }\n      });\n      // Destroy server and session\n      var cmd = \"import bokeh.io.notebook as ion; ion.destroy_server('\" + server_id + \"')\";\n      cell.notebook.kernel.execute(cmd);\n    }\n  }\n\n  /**\n   * Handle when a new output is added\n   */\n  function handleAddOutput(event, handle) {\n    var output_area = handle.output_area;\n    var output = handle.output;\n\n    // limit handleAddOutput to display_data with EXEC_MIME_TYPE content only\n    if ((output.output_type != \"display_data\") || (!output.data.hasOwnProperty(EXEC_MIME_TYPE))) {\n      return\n    }\n\n    var toinsert = output_area.element.find(\".\" + CLASS_NAME.split(' ')[0]);\n\n    if (output.metadata[EXEC_MIME_TYPE][\"id\"] !== undefined) {\n      toinsert[toinsert.length - 1].firstChild.textContent = output.data[JS_MIME_TYPE];\n      // store reference to embed id on output_area\n      output_area._bokeh_element_id = output.metadata[EXEC_MIME_TYPE][\"id\"];\n    }\n    if (output.metadata[EXEC_MIME_TYPE][\"server_id\"] !== undefined) {\n      var bk_div = document.createElement(\"div\");\n      bk_div.innerHTML = output.data[HTML_MIME_TYPE];\n      var script_attrs = bk_div.children[0].attributes;\n      for (var i = 0; i < script_attrs.length; i++) {\n        toinsert[toinsert.length - 1].firstChild.setAttribute(script_attrs[i].name, script_attrs[i].value);\n      }\n      // store reference to server id on output_area\n      output_area._bokeh_server_id = output.metadata[EXEC_MIME_TYPE][\"server_id\"];\n    }\n  }\n\n  function register_renderer(events, OutputArea) {\n\n    function append_mime(data, metadata, element) {\n      // create a DOM node to render to\n      var toinsert = this.create_output_subarea(\n        metadata,\n        CLASS_NAME,\n        EXEC_MIME_TYPE\n      );\n      this.keyboard_manager.register_events(toinsert);\n      // Render to node\n      var props = {data: data, metadata: metadata[EXEC_MIME_TYPE]};\n      render(props, toinsert[toinsert.length - 1]);\n      element.append(toinsert);\n      return toinsert\n    }\n\n    /* Handle when an output is cleared or removed */\n    events.on('clear_output.CodeCell', handleClearOutput);\n    events.on('delete.Cell', handleClearOutput);\n\n    /* Handle when a new output is added */\n    events.on('output_added.OutputArea', handleAddOutput);\n\n    /**\n     * Register the mime type and append_mime function with output_area\n     */\n    OutputArea.prototype.register_mime_type(EXEC_MIME_TYPE, append_mime, {\n      /* Is output safe? */\n      safe: true,\n      /* Index of renderer in `output_area.display_order` */\n      index: 0\n    });\n  }\n\n  // register the mime type if in Jupyter Notebook environment and previously unregistered\n  if (root.Jupyter !== undefined) {\n    var events = require('base/js/events');\n    var OutputArea = require('notebook/js/outputarea').OutputArea;\n\n    if (OutputArea.prototype.mime_types().indexOf(EXEC_MIME_TYPE) == -1) {\n      register_renderer(events, OutputArea);\n    }\n  }\n\n  \n  if (typeof (root._bokeh_timeout) === \"undefined\" || force === true) {\n    root._bokeh_timeout = Date.now() + 5000;\n    root._bokeh_failed_load = false;\n  }\n\n  var NB_LOAD_WARNING = {'data': {'text/html':\n     \"<div style='background-color: #fdd'>\\n\"+\n     \"<p>\\n\"+\n     \"BokehJS does not appear to have successfully loaded. If loading BokehJS from CDN, this \\n\"+\n     \"may be due to a slow or bad network connection. Possible fixes:\\n\"+\n     \"</p>\\n\"+\n     \"<ul>\\n\"+\n     \"<li>re-rerun `output_notebook()` to attempt to load from CDN again, or</li>\\n\"+\n     \"<li>use INLINE resources instead, as so:</li>\\n\"+\n     \"</ul>\\n\"+\n     \"<code>\\n\"+\n     \"from bokeh.resources import INLINE\\n\"+\n     \"output_notebook(resources=INLINE)\\n\"+\n     \"</code>\\n\"+\n     \"</div>\"}};\n\n  function display_loaded() {\n    var el = document.getElementById(\"d5db2743-86a5-4278-a652-bcec060f2cd9\");\n    if (el != null) {\n      el.textContent = \"BokehJS is loading...\";\n    }\n    if (root.Bokeh !== undefined) {\n      if (el != null) {\n        el.textContent = \"BokehJS \" + root.Bokeh.version + \" successfully loaded.\";\n      }\n    } else if (Date.now() < root._bokeh_timeout) {\n      setTimeout(display_loaded, 100)\n    }\n  }\n\n\n  function run_callbacks() {\n    try {\n      root._bokeh_onload_callbacks.forEach(function(callback) { callback() });\n    }\n    finally {\n      delete root._bokeh_onload_callbacks\n    }\n    console.info(\"Bokeh: all callbacks have finished\");\n  }\n\n  function load_libs(js_urls, callback) {\n    root._bokeh_onload_callbacks.push(callback);\n    if (root._bokeh_is_loading > 0) {\n      console.log(\"Bokeh: BokehJS is being loaded, scheduling callback at\", now());\n      return null;\n    }\n    if (js_urls == null || js_urls.length === 0) {\n      run_callbacks();\n      return null;\n    }\n    console.log(\"Bokeh: BokehJS not loaded, scheduling load and callback at\", now());\n    root._bokeh_is_loading = js_urls.length;\n    for (var i = 0; i < js_urls.length; i++) {\n      var url = js_urls[i];\n      var s = document.createElement('script');\n      s.src = url;\n      s.async = false;\n      s.onreadystatechange = s.onload = function() {\n        root._bokeh_is_loading--;\n        if (root._bokeh_is_loading === 0) {\n          console.log(\"Bokeh: all BokehJS libraries loaded\");\n          run_callbacks()\n        }\n      };\n      s.onerror = function() {\n        console.warn(\"failed to load library \" + url);\n      };\n      console.log(\"Bokeh: injecting script tag for BokehJS library: \", url);\n      document.getElementsByTagName(\"head\")[0].appendChild(s);\n    }\n  };var element = document.getElementById(\"d5db2743-86a5-4278-a652-bcec060f2cd9\");\n  if (element == null) {\n    console.log(\"Bokeh: ERROR: autoload.js configured with elementid 'd5db2743-86a5-4278-a652-bcec060f2cd9' but no matching script tag was found. \")\n    return false;\n  }\n\n  var js_urls = [\"https://cdn.pydata.org/bokeh/release/bokeh-0.13.0.min.js\", \"https://cdn.pydata.org/bokeh/release/bokeh-widgets-0.13.0.min.js\", \"https://cdn.pydata.org/bokeh/release/bokeh-tables-0.13.0.min.js\", \"https://cdn.pydata.org/bokeh/release/bokeh-gl-0.13.0.min.js\"];\n\n  var inline_js = [\n    function(Bokeh) {\n      Bokeh.set_log_level(\"info\");\n    },\n    \n    function(Bokeh) {\n      \n    },\n    function(Bokeh) {\n      console.log(\"Bokeh: injecting CSS: https://cdn.pydata.org/bokeh/release/bokeh-0.13.0.min.css\");\n      Bokeh.embed.inject_css(\"https://cdn.pydata.org/bokeh/release/bokeh-0.13.0.min.css\");\n      console.log(\"Bokeh: injecting CSS: https://cdn.pydata.org/bokeh/release/bokeh-widgets-0.13.0.min.css\");\n      Bokeh.embed.inject_css(\"https://cdn.pydata.org/bokeh/release/bokeh-widgets-0.13.0.min.css\");\n      console.log(\"Bokeh: injecting CSS: https://cdn.pydata.org/bokeh/release/bokeh-tables-0.13.0.min.css\");\n      Bokeh.embed.inject_css(\"https://cdn.pydata.org/bokeh/release/bokeh-tables-0.13.0.min.css\");\n    }\n  ];\n\n  function run_inline_js() {\n    \n    if ((root.Bokeh !== undefined) || (force === true)) {\n      for (var i = 0; i < inline_js.length; i++) {\n        inline_js[i].call(root, root.Bokeh);\n      }if (force === true) {\n        display_loaded();\n      }} else if (Date.now() < root._bokeh_timeout) {\n      setTimeout(run_inline_js, 100);\n    } else if (!root._bokeh_failed_load) {\n      console.log(\"Bokeh: BokehJS failed to load within specified timeout.\");\n      root._bokeh_failed_load = true;\n    } else if (force !== true) {\n      var cell = $(document.getElementById(\"d5db2743-86a5-4278-a652-bcec060f2cd9\")).parents('.cell').data().cell;\n      cell.output_area.append_execute_result(NB_LOAD_WARNING)\n    }\n\n  }\n\n  if (root._bokeh_is_loading === 0) {\n    console.log(\"Bokeh: BokehJS loaded, going straight to plotting\");\n    run_inline_js();\n  } else {\n    load_libs(js_urls, function() {\n      console.log(\"Bokeh: BokehJS plotting callback run at\", now());\n      run_inline_js();\n    });\n  }\n}(window));",
      "application/vnd.bokehjs_load.v0+json": ""
     },
     "metadata": {},
     "output_type": "display_data"
    }
   ],
   "source": [
    "output_notebook()"
   ]
  },
  {
   "cell_type": "code",
   "execution_count": 97,
   "metadata": {},
   "outputs": [
    {
     "data": {
      "text/html": [
       "\n",
       "\n",
       "\n",
       "\n",
       "\n",
       "\n",
       "  <div class=\"bk-root\" id=\"d842acae-c178-4131-af45-a453f3db1001\"></div>\n"
      ]
     },
     "metadata": {},
     "output_type": "display_data"
    },
    {
     "data": {
      "application/javascript": "(function(root) {\n  function embed_document(root) {\n    \n  var docs_json = {\"17fd5480-6abd-4fbf-a327-0d5491cc01c1\":{\"roots\":{\"references\":[{\"attributes\":{\"overlay\":{\"id\":\"c79c09c2-aa66-4d60-a5a3-0623f92077fa\",\"type\":\"BoxAnnotation\"}},\"id\":\"f822f5f8-3b68-498b-8066-f1dbc43ed669\",\"type\":\"BoxZoomTool\"},{\"attributes\":{\"days\":[1,2,3,4,5,6,7,8,9,10,11,12,13,14,15,16,17,18,19,20,21,22,23,24,25,26,27,28,29,30,31]},\"id\":\"8a1a2824-06e1-4e9d-8761-827b9534d21f\",\"type\":\"DaysTicker\"},{\"attributes\":{},\"id\":\"a6357fad-e802-427d-989c-b644f0c893d8\",\"type\":\"DatetimeTickFormatter\"},{\"attributes\":{},\"id\":\"8094e1c3-49eb-4094-b979-3a594e964d73\",\"type\":\"UnionRenderers\"},{\"attributes\":{},\"id\":\"fdd2ea4c-cdba-4ff8-978b-7958f7163556\",\"type\":\"WheelZoomTool\"},{\"attributes\":{\"callback\":null},\"id\":\"8c7f3473-56e8-4c8e-a816-c0d9a207d3ff\",\"type\":\"DataRange1d\"},{\"attributes\":{\"data_source\":{\"id\":\"b2821caa-be50-474a-bb0d-a7f49b912cb1\",\"type\":\"ColumnDataSource\"},\"glyph\":{\"id\":\"9a3cd0a4-5283-4d6e-a102-61d551e74b9b\",\"type\":\"Line\"},\"hover_glyph\":null,\"muted_glyph\":null,\"nonselection_glyph\":{\"id\":\"96618a30-f39c-4496-b911-8d649523c602\",\"type\":\"Line\"},\"selection_glyph\":null,\"view\":{\"id\":\"3469dd42-9345-435c-bc3e-a5a57bd9fd4e\",\"type\":\"CDSView\"}},\"id\":\"a47a1ecc-fe5a-43ed-9047-9b4c7fdf15dc\",\"type\":\"GlyphRenderer\"},{\"attributes\":{\"months\":[0,2,4,6,8,10]},\"id\":\"68fa0ef7-6f7f-4e2f-877a-850a125784d5\",\"type\":\"MonthsTicker\"},{\"attributes\":{\"bottom_units\":\"screen\",\"fill_alpha\":{\"value\":0.5},\"fill_color\":{\"value\":\"lightgrey\"},\"left_units\":\"screen\",\"level\":\"overlay\",\"line_alpha\":{\"value\":1.0},\"line_color\":{\"value\":\"black\"},\"line_dash\":[4,4],\"line_width\":{\"value\":2},\"plot\":null,\"render_mode\":\"css\",\"right_units\":\"screen\",\"top_units\":\"screen\"},\"id\":\"c79c09c2-aa66-4d60-a5a3-0623f92077fa\",\"type\":\"BoxAnnotation\"},{\"attributes\":{\"base\":24,\"mantissas\":[1,2,4,6,8,12],\"max_interval\":43200000.0,\"min_interval\":3600000.0,\"num_minor_ticks\":0},\"id\":\"e34c4b4b-c010-4ebb-b061-76cee09bcccc\",\"type\":\"AdaptiveTicker\"},{\"attributes\":{\"grid_line_alpha\":{\"value\":0.3},\"plot\":{\"id\":\"386b1941-07a1-4aba-a73e-7466ae0b211c\",\"subtype\":\"Figure\",\"type\":\"Plot\"},\"ticker\":{\"id\":\"8ea9db7d-43d6-4b52-9e31-8b25209a1b6f\",\"type\":\"DatetimeTicker\"}},\"id\":\"4583511e-f9de-4e5b-a2bf-bb0448cd5b43\",\"type\":\"Grid\"},{\"attributes\":{\"mantissas\":[1,2,5],\"max_interval\":500.0,\"num_minor_ticks\":0},\"id\":\"3b32101f-5997-45ef-b6fc-3eab59b41383\",\"type\":\"AdaptiveTicker\"},{\"attributes\":{\"line_alpha\":0.1,\"line_color\":\"#1f77b4\",\"x\":{\"field\":\"x\"},\"y\":{\"field\":\"y\"}},\"id\":\"96618a30-f39c-4496-b911-8d649523c602\",\"type\":\"Line\"},{\"attributes\":{\"months\":[0,6]},\"id\":\"aaae4848-f6cf-48d5-a178-d28dacfecddb\",\"type\":\"MonthsTicker\"},{\"attributes\":{\"months\":[0,4,8]},\"id\":\"da234ee3-b25d-41f3-a965-77ee551ec094\",\"type\":\"MonthsTicker\"},{\"attributes\":{},\"id\":\"bb848fae-e33b-422d-a408-c1f81afb3ada\",\"type\":\"YearsTicker\"},{\"attributes\":{\"base\":60,\"mantissas\":[1,2,5,10,15,20,30],\"max_interval\":1800000.0,\"min_interval\":1000.0,\"num_minor_ticks\":0},\"id\":\"8490743f-3f65-485d-a6e1-21b26cfc63d2\",\"type\":\"AdaptiveTicker\"},{\"attributes\":{\"months\":[0,1,2,3,4,5,6,7,8,9,10,11]},\"id\":\"93d00fee-c96f-4e9b-9bc4-fab11d9ab756\",\"type\":\"MonthsTicker\"},{\"attributes\":{},\"id\":\"2d31c9c2-8792-45aa-9c5d-21aedec0b781\",\"type\":\"PanTool\"},{\"attributes\":{\"axis_label\":\"Price\",\"formatter\":{\"id\":\"577649cb-ab61-4dd6-9f1d-1f2083ac5bf8\",\"type\":\"BasicTickFormatter\"},\"plot\":{\"id\":\"386b1941-07a1-4aba-a73e-7466ae0b211c\",\"subtype\":\"Figure\",\"type\":\"Plot\"},\"ticker\":{\"id\":\"f2e2d735-d7d9-4b6e-8678-d718fe4f0a3e\",\"type\":\"BasicTicker\"}},\"id\":\"02c85d1d-38b1-44d3-b382-0fdabc8cbd59\",\"type\":\"LinearAxis\"},{\"attributes\":{},\"id\":\"f3b98c71-d6c3-4437-9904-ecce69228cc9\",\"type\":\"HelpTool\"},{\"attributes\":{},\"id\":\"cd2137a1-30c0-43f9-b609-39de585494df\",\"type\":\"Selection\"},{\"attributes\":{\"label\":{\"value\":\"Bitcoin\"},\"renderers\":[{\"id\":\"a47a1ecc-fe5a-43ed-9047-9b4c7fdf15dc\",\"type\":\"GlyphRenderer\"}]},\"id\":\"4a8b75bd-f800-409f-bd58-8e1a1001bc85\",\"type\":\"LegendItem\"},{\"attributes\":{},\"id\":\"577649cb-ab61-4dd6-9f1d-1f2083ac5bf8\",\"type\":\"BasicTickFormatter\"},{\"attributes\":{\"source\":{\"id\":\"b2821caa-be50-474a-bb0d-a7f49b912cb1\",\"type\":\"ColumnDataSource\"}},\"id\":\"3469dd42-9345-435c-bc3e-a5a57bd9fd4e\",\"type\":\"CDSView\"},{\"attributes\":{},\"id\":\"76033c7c-e15a-4808-a2d4-58df48077a55\",\"type\":\"SaveTool\"},{\"attributes\":{\"days\":[1,15]},\"id\":\"fb05ba0f-d072-494b-ab8e-8489edbe24b0\",\"type\":\"DaysTicker\"},{\"attributes\":{\"days\":[1,8,15,22]},\"id\":\"6d5635ef-6495-4e66-a124-e136b5687452\",\"type\":\"DaysTicker\"},{\"attributes\":{},\"id\":\"5fe7e39c-9b19-45ad-ac28-0cfca5e008f3\",\"type\":\"ResetTool\"},{\"attributes\":{},\"id\":\"1ca34328-2829-4c2b-8204-ad790da82556\",\"type\":\"LinearScale\"},{\"attributes\":{\"below\":[{\"id\":\"358e2421-7e4c-48b7-925b-ff8505538060\",\"type\":\"DatetimeAxis\"}],\"left\":[{\"id\":\"02c85d1d-38b1-44d3-b382-0fdabc8cbd59\",\"type\":\"LinearAxis\"}],\"plot_width\":800,\"renderers\":[{\"id\":\"358e2421-7e4c-48b7-925b-ff8505538060\",\"type\":\"DatetimeAxis\"},{\"id\":\"4583511e-f9de-4e5b-a2bf-bb0448cd5b43\",\"type\":\"Grid\"},{\"id\":\"02c85d1d-38b1-44d3-b382-0fdabc8cbd59\",\"type\":\"LinearAxis\"},{\"id\":\"7c1dae64-9449-4a82-aa34-ade98e966706\",\"type\":\"Grid\"},{\"id\":\"c79c09c2-aa66-4d60-a5a3-0623f92077fa\",\"type\":\"BoxAnnotation\"},{\"id\":\"a107d1b0-68e0-49d1-b405-45b1bc16e1a3\",\"type\":\"Legend\"},{\"id\":\"a47a1ecc-fe5a-43ed-9047-9b4c7fdf15dc\",\"type\":\"GlyphRenderer\"}],\"title\":{\"id\":\"7103f901-1321-416b-a613-0d6ebd3a2d1b\",\"type\":\"Title\"},\"toolbar\":{\"id\":\"f7888a68-75d3-4f76-be41-e1a49d126397\",\"type\":\"Toolbar\"},\"x_range\":{\"id\":\"34c917a0-40e0-4e62-b4b8-fa30d96e1360\",\"type\":\"DataRange1d\"},\"x_scale\":{\"id\":\"1ca34328-2829-4c2b-8204-ad790da82556\",\"type\":\"LinearScale\"},\"y_range\":{\"id\":\"8c7f3473-56e8-4c8e-a816-c0d9a207d3ff\",\"type\":\"DataRange1d\"},\"y_scale\":{\"id\":\"33cf8774-cae9-4968-b197-17e2831a2c62\",\"type\":\"LinearScale\"}},\"id\":\"386b1941-07a1-4aba-a73e-7466ae0b211c\",\"subtype\":\"Figure\",\"type\":\"Plot\"},{\"attributes\":{\"plot\":null,\"text\":\"Crypto Prices\"},\"id\":\"7103f901-1321-416b-a613-0d6ebd3a2d1b\",\"type\":\"Title\"},{\"attributes\":{\"num_minor_ticks\":5,\"tickers\":[{\"id\":\"3b32101f-5997-45ef-b6fc-3eab59b41383\",\"type\":\"AdaptiveTicker\"},{\"id\":\"8490743f-3f65-485d-a6e1-21b26cfc63d2\",\"type\":\"AdaptiveTicker\"},{\"id\":\"e34c4b4b-c010-4ebb-b061-76cee09bcccc\",\"type\":\"AdaptiveTicker\"},{\"id\":\"8a1a2824-06e1-4e9d-8761-827b9534d21f\",\"type\":\"DaysTicker\"},{\"id\":\"962c5cd5-1d2a-45ef-902f-a983eeb3243f\",\"type\":\"DaysTicker\"},{\"id\":\"6d5635ef-6495-4e66-a124-e136b5687452\",\"type\":\"DaysTicker\"},{\"id\":\"fb05ba0f-d072-494b-ab8e-8489edbe24b0\",\"type\":\"DaysTicker\"},{\"id\":\"93d00fee-c96f-4e9b-9bc4-fab11d9ab756\",\"type\":\"MonthsTicker\"},{\"id\":\"68fa0ef7-6f7f-4e2f-877a-850a125784d5\",\"type\":\"MonthsTicker\"},{\"id\":\"da234ee3-b25d-41f3-a965-77ee551ec094\",\"type\":\"MonthsTicker\"},{\"id\":\"aaae4848-f6cf-48d5-a178-d28dacfecddb\",\"type\":\"MonthsTicker\"},{\"id\":\"bb848fae-e33b-422d-a408-c1f81afb3ada\",\"type\":\"YearsTicker\"}]},\"id\":\"8ea9db7d-43d6-4b52-9e31-8b25209a1b6f\",\"type\":\"DatetimeTicker\"},{\"attributes\":{\"days\":[1,4,7,10,13,16,19,22,25,28]},\"id\":\"962c5cd5-1d2a-45ef-902f-a983eeb3243f\",\"type\":\"DaysTicker\"},{\"attributes\":{\"active_drag\":\"auto\",\"active_inspect\":\"auto\",\"active_multi\":null,\"active_scroll\":\"auto\",\"active_tap\":\"auto\",\"tools\":[{\"id\":\"2d31c9c2-8792-45aa-9c5d-21aedec0b781\",\"type\":\"PanTool\"},{\"id\":\"fdd2ea4c-cdba-4ff8-978b-7958f7163556\",\"type\":\"WheelZoomTool\"},{\"id\":\"f822f5f8-3b68-498b-8066-f1dbc43ed669\",\"type\":\"BoxZoomTool\"},{\"id\":\"76033c7c-e15a-4808-a2d4-58df48077a55\",\"type\":\"SaveTool\"},{\"id\":\"5fe7e39c-9b19-45ad-ac28-0cfca5e008f3\",\"type\":\"ResetTool\"},{\"id\":\"f3b98c71-d6c3-4437-9904-ecce69228cc9\",\"type\":\"HelpTool\"}]},\"id\":\"f7888a68-75d3-4f76-be41-e1a49d126397\",\"type\":\"Toolbar\"},{\"attributes\":{\"dimension\":1,\"grid_line_alpha\":{\"value\":0.3},\"plot\":{\"id\":\"386b1941-07a1-4aba-a73e-7466ae0b211c\",\"subtype\":\"Figure\",\"type\":\"Plot\"},\"ticker\":{\"id\":\"f2e2d735-d7d9-4b6e-8678-d718fe4f0a3e\",\"type\":\"BasicTicker\"}},\"id\":\"7c1dae64-9449-4a82-aa34-ade98e966706\",\"type\":\"Grid\"},{\"attributes\":{\"items\":[{\"id\":\"4a8b75bd-f800-409f-bd58-8e1a1001bc85\",\"type\":\"LegendItem\"}],\"location\":\"top_left\",\"plot\":{\"id\":\"386b1941-07a1-4aba-a73e-7466ae0b211c\",\"subtype\":\"Figure\",\"type\":\"Plot\"}},\"id\":\"a107d1b0-68e0-49d1-b405-45b1bc16e1a3\",\"type\":\"Legend\"},{\"attributes\":{\"line_color\":\"#f2a900\",\"x\":{\"field\":\"x\"},\"y\":{\"field\":\"y\"}},\"id\":\"9a3cd0a4-5283-4d6e-a102-61d551e74b9b\",\"type\":\"Line\"},{\"attributes\":{\"axis_label\":\"Date\",\"formatter\":{\"id\":\"a6357fad-e802-427d-989c-b644f0c893d8\",\"type\":\"DatetimeTickFormatter\"},\"plot\":{\"id\":\"386b1941-07a1-4aba-a73e-7466ae0b211c\",\"subtype\":\"Figure\",\"type\":\"Plot\"},\"ticker\":{\"id\":\"8ea9db7d-43d6-4b52-9e31-8b25209a1b6f\",\"type\":\"DatetimeTicker\"}},\"id\":\"358e2421-7e4c-48b7-925b-ff8505538060\",\"type\":\"DatetimeAxis\"},{\"attributes\":{},\"id\":\"33cf8774-cae9-4968-b197-17e2831a2c62\",\"type\":\"LinearScale\"},{\"attributes\":{\"callback\":null},\"id\":\"34c917a0-40e0-4e62-b4b8-fa30d96e1360\",\"type\":\"DataRange1d\"},{\"attributes\":{\"callback\":null,\"data\":{\"x\":{\"__ndarray__\":\"AADI+Ub8eEIAALBoSvx4QgAAmNdN/HhCAACARlH8eEIAAGi1VPx4QgAAUCRY/HhCAAA4k1v8eEIAACACX/x4QgAACHFi/HhCAADw32X8eEIAANhOafx4QgAAwL1s/HhCAACoLHD8eEIAAJCbc/x4QgAAeAp3/HhCAABgeXr8eEIAAEjoffx4QgAAMFeB/HhCAAAYxoT8eEIAAAA1iPx4QgAA6KOL/HhCAADQEo/8eEIAALiBkvx4QgAAoPCV/HhCAACIX5n8eEIAAHDOnPx4QgAAWD2g/HhCAABArKP8eEIAACgbp/x4QgAAEIqq/HhCAAD4+K38eEIAAOBnsfx4QgAAyNa0/HhCAACwRbj8eEIAAJi0u/x4QgAAgCO//HhCAABoksL8eEIAAFABxvx4QgAAOHDJ/HhCAAAg38z8eEIAAAhO0Px4QgAA8LzT/HhCAADYK9f8eEIAAMCa2vx4QgAAqAne/HhCAACQeOH8eEIAAHjn5Px4QgAAYFbo/HhCAABIxev8eEIAADA07/x4QgAAGKPy/HhCAAAAEvb8eEIAAOiA+fx4QgAA0O/8/HhCAAC4XgD9eEIAAKDNA/14QgAAiDwH/XhCAABwqwr9eEIAAFgaDv14QgAAQIkR/XhCAAAo+BT9eEIAABBnGP14QgAA+NUb/XhCAADgRB/9eEIAAMizIv14QgAAsCIm/XhCAACYkSn9eEIAAIAALf14QgAAaG8w/XhCAABQ3jP9eEIAADhNN/14QgAAILw6/XhCAAAIKz79eEIAAPCZQf14QgAA2AhF/XhCAADAd0j9eEIAAKjmS/14QgAAkFVP/XhCAAB4xFL9eEIAAGAzVv14QgAASKJZ/XhCAAAwEV39eEIAABiAYP14QgAAAO9j/XhCAADoXWf9eEIAANDMav14QgAAuDtu/XhCAACgqnH9eEIAAIgZdf14QgAAcIh4/XhCAABY93v9eEIAAEBmf/14QgAAKNWC/XhCAAAQRIb9eEIAAPiyif14QgAA4CGN/XhCAADIkJD9eEIAALD/k/14QgAAmG6X/XhCAACA3Zr9eEIAAGhMnv14QgAAULuh/XhCAAA4KqX9eEIAACCZqP14QgAACAis/XhCAADwdq/9eEIAANjlsv14QgAAwFS2/XhCAACow7n9eEIAAJAyvf14QgAAeKHA/XhCAABgEMT9eEIAAEh/x/14QgAAMO7K/XhCAAAYXc79eEIAAADM0f14QgAA6DrV/XhCAADQqdj9eEIAALgY3P14QgAAoIff/XhCAACI9uL9eEIAAHBl5v14QgAAWNTp/XhCAABAQ+39eEIAACiy8P14QgAAECH0/XhCAAD4j/f9eEIAAOD++v14QgAAyG3+/XhCAACw3AH+eEIAAJhLBf54QgAAgLoI/nhCAABoKQz+eEIAAFCYD/54QgAAOAcT/nhCAAAgdhb+eEIAAAjlGf54QgAA8FMd/nhCAADYwiD+eEIAAMAxJP54QgAAqKAn/nhCAACQDyv+eEIAAHh+Lv54QgAAYO0x/nhCAABIXDX+eEIAADDLOP54QgAAGDo8/nhCAAAAqT/+eEIAAOgXQ/54QgAA0IZG/nhCAAC49Un+eEIAAKBkTf54QgAAiNNQ/nhCAABwQlT+eEIAAFixV/54QgAAQCBb/nhCAAAoj17+eEIAABD+Yf54QgAA+Gxl/nhCAADg22j+eEIAAMhKbP54QgAAsLlv/nhCAACYKHP+eEIAAICXdv54QgAAaAZ6/nhCAABQdX3+eEIAADjkgP54Qg==\",\"dtype\":\"float64\",\"shape\":[167]},\"y\":{\"__ndarray__\":\"MzMzM9ON8EAzMzMz+3/wQDMzMzOzcPBAAAAAACB78EAzMzMz+3/wQGZmZmamb/BAzczMzFRo8EDNzMzMRHXwQJqZmZnJg/BAAAAAAACC8EBmZmZmdn/wQDMzMzNje/BAAAAAAECH8ECamZmZ2ZLwQJqZmZkxnfBAmpmZmVGe8EBmZmZmFp7wQM3MzMz8jPBAZmZmZpZ+8EAzMzMzQ4TwQAAAAACwhfBAZmZmZq6T8EAzMzMzK43wQAAAAADwoPBAZmZmZn6/8EBmZmZm1q7wQM3MzMwEuvBAAAAAAKjB8EAzMzMzS+3wQGZmZmbe7vBAzczMzLTA8ECamZmZQbfwQGZmZmYGtPBAmpmZmYGs8EAAAAAA0LDwQJqZmZmZtPBAmpmZmVmz8EBmZmZmTrrwQGZmZmY+vPBAMzMzM+O58EDNzMzMhLPwQDMzMzODqfBAAAAAAFij8EAAAAAAAKTwQGZmZma2lPBAmpmZmTGo8EAzMzMzc63wQGZmZmamv/BAAAAAALCd8EAzMzMz+3bwQGZmZmYuZvBAAAAAADBl8ECamZmZaW3wQGZmZmZWcPBAmpmZmRl/8EAAAAAACIPwQGZmZmb2efBAzczMzPR48ECamZmZoXrwQDMzMzPjf/BAMzMzM0N38EDNzMzMtITwQM3MzMwMhfBAZmZmZl6F8EAzMzMz24LwQAAAAABwgvBAmpmZmSGC8EAAAAAAIIPwQGZmZmZegvBAMzMzM1uC8EAAAAAAIILwQGZmZmbGhvBAzczMzMyF8EBmZmZmponwQJqZmZnBhPBAmpmZmYGC8ECamZmZQYvwQAAAAACQhvBAMzMzM5OH8EAAAAAA4InwQDMzMzO7iPBAZmZmZl6K8EAzMzMzU4jwQDMzMzPjjvBAZmZmZtaF8EDNzMzMhIPwQJqZmZmRifBAZmZmZuaJ8EBmZmZmpojwQDMzMzNLi/BAmpmZmRmH8EAAAAAA0IfwQAAAAAC4efBAAAAAALh58EAAAAAAyKXwQJqZmZlBk/BAzczMzCSh8EAAAAAAAKPwQDMzMzPzn/BAzczMzESc8EAAAAAAoJDwQJqZmZlJhPBAzczMzMyJ8EDNzMzMVIvwQM3MzMzUjPBAAAAAAKCQ8ECamZmZEYnwQJqZmZkpjPBAZmZmZs6y8EDNzMzMzLLwQAAAAAAIsPBAAAAAANC38EBmZmZmlsLwQAAAAACA2PBAmpmZmWnO8EAAAAAAmOLwQAAAAADg1/BAMzMzMzPS8EAAAAAAUNzwQGZmZmY+BPFAZmZmZk4M8UDNzMzMFMjwQDMzMzOj/PBAMzMzM3Pc8EDNzMzMBOjwQGZmZmb+5/BAAAAAAHji8EBmZmZmFt/wQM3MzMxE3PBAmpmZmaHa8EAAAAAAAMzwQJqZmZnx2PBAAAAAABji8EAAAAAA0N/wQAAAAADg4fBAzczMzLTa8ECamZmZ0dTwQDMzMzPD0vBAAAAAAMDX8EDNzMzMxM7wQJqZmZkRw/BAzczMzBTQ8EAAAAAAUNTwQAAAAABA0vBAmpmZmYH58EAAAAAAIAHxQM3MzMzcMPFAMzMzM0tH8UAAAAAAQDvxQAAAAADgRfFAAAAAALg08UAzMzMz8zPxQDMzMzPLPfFAzczMzEQ78UCamZmZ6TnxQGZmZmb+SPFAzczMzExU8UDNzMzM5EvxQGZmZmamUvFAMzMzM1Ng8UAAAAAAgFXxQAAAAACIWvFAMzMzMwti8UAAAAAAMFDxQM3MzMwETvFAMzMzM+tI8UAAAAAAOE3xQA==\",\"dtype\":\"float64\",\"shape\":[167]}},\"selected\":{\"id\":\"cd2137a1-30c0-43f9-b609-39de585494df\",\"type\":\"Selection\"},\"selection_policy\":{\"id\":\"8094e1c3-49eb-4094-b979-3a594e964d73\",\"type\":\"UnionRenderers\"}},\"id\":\"b2821caa-be50-474a-bb0d-a7f49b912cb1\",\"type\":\"ColumnDataSource\"},{\"attributes\":{},\"id\":\"f2e2d735-d7d9-4b6e-8678-d718fe4f0a3e\",\"type\":\"BasicTicker\"}],\"root_ids\":[\"386b1941-07a1-4aba-a73e-7466ae0b211c\"]},\"title\":\"Bokeh Application\",\"version\":\"0.13.0\"}};\n  var render_items = [{\"docid\":\"17fd5480-6abd-4fbf-a327-0d5491cc01c1\",\"roots\":{\"386b1941-07a1-4aba-a73e-7466ae0b211c\":\"d842acae-c178-4131-af45-a453f3db1001\"}}];\n  root.Bokeh.embed.embed_items_notebook(docs_json, render_items);\n\n  }\n  if (root.Bokeh !== undefined) {\n    embed_document(root);\n  } else {\n    var attempts = 0;\n    var timer = setInterval(function(root) {\n      if (root.Bokeh !== undefined) {\n        embed_document(root);\n        clearInterval(timer);\n      }\n      attempts++;\n      if (attempts > 100) {\n        console.log(\"Bokeh: ERROR: Unable to run BokehJS code because BokehJS library is missing\")\n        clearInterval(timer);\n      }\n    }, 10, root)\n  }\n})(window);",
      "application/vnd.bokehjs_exec.v0+json": ""
     },
     "metadata": {
      "application/vnd.bokehjs_exec.v0+json": {
       "id": "386b1941-07a1-4aba-a73e-7466ae0b211c"
      }
     },
     "output_type": "display_data"
    }
   ],
   "source": [
    "p1 = figure(x_axis_type=\"datetime\", title=\"Crypto Prices\", width=800)\n",
    "p1.grid.grid_line_alpha=0.3\n",
    "p1.xaxis.axis_label = 'Date'\n",
    "p1.yaxis.axis_label = 'Price'\n",
    "\n",
    "p1.line(btc.index, btc['ClosePrice'], color='#f2a900', legend='Bitcoin')\n",
    "#p1.line(eth.index, eth['ClosePrice'], color='#A6CEE3', legend='Ether')\n",
    "\n",
    "p1.legend.location = \"top_left\"\n",
    "\n",
    "show(p1)"
   ]
  },
  {
   "cell_type": "code",
   "execution_count": 98,
   "metadata": {},
   "outputs": [],
   "source": [
    "writer = pd.ExcelWriter('cryptos.xlsx')"
   ]
  },
  {
   "cell_type": "code",
   "execution_count": 99,
   "metadata": {},
   "outputs": [],
   "source": [
    "btc.to_excel(writer, sheet_name='Bitcoin')"
   ]
  },
  {
   "cell_type": "code",
   "execution_count": 100,
   "metadata": {},
   "outputs": [],
   "source": [
    "eth.to_excel(writer, sheet_name='Ether')"
   ]
  },
  {
   "cell_type": "code",
   "execution_count": 101,
   "metadata": {},
   "outputs": [],
   "source": [
    "writer.save()"
   ]
  },
  {
   "cell_type": "code",
   "execution_count": 102,
   "metadata": {},
   "outputs": [],
   "source": [
    "import numpy as np\n",
    "import pandas as pd\n",
    "import seaborn as sns\n",
    "import matplotlib.pyplot as plt\n",
    "\n",
    "%matplotlib inline"
   ]
  },
  {
   "cell_type": "code",
   "execution_count": 103,
   "metadata": {},
   "outputs": [
    {
     "data": {
      "text/plain": [
       "True"
      ]
     },
     "execution_count": 103,
     "metadata": {},
     "output_type": "execute_result"
    }
   ],
   "source": [
    "pd.isnull(np.nan)"
   ]
  },
  {
   "cell_type": "code",
   "execution_count": 104,
   "metadata": {},
   "outputs": [
    {
     "data": {
      "text/plain": [
       "True"
      ]
     },
     "execution_count": 104,
     "metadata": {},
     "output_type": "execute_result"
    }
   ],
   "source": [
    "pd.isnull(None)"
   ]
  },
  {
   "cell_type": "code",
   "execution_count": 105,
   "metadata": {},
   "outputs": [
    {
     "data": {
      "text/plain": [
       "True"
      ]
     },
     "execution_count": 105,
     "metadata": {},
     "output_type": "execute_result"
    }
   ],
   "source": [
    "pd.isna(np.nan)"
   ]
  },
  {
   "cell_type": "code",
   "execution_count": 106,
   "metadata": {},
   "outputs": [
    {
     "data": {
      "text/plain": [
       "True"
      ]
     },
     "execution_count": 106,
     "metadata": {},
     "output_type": "execute_result"
    }
   ],
   "source": [
    "pd.isna(None)"
   ]
  },
  {
   "cell_type": "code",
   "execution_count": 107,
   "metadata": {},
   "outputs": [
    {
     "data": {
      "text/plain": [
       "False"
      ]
     },
     "execution_count": 107,
     "metadata": {},
     "output_type": "execute_result"
    }
   ],
   "source": [
    "pd.notnull(None)"
   ]
  },
  {
   "cell_type": "code",
   "execution_count": 108,
   "metadata": {},
   "outputs": [
    {
     "data": {
      "text/plain": [
       "False"
      ]
     },
     "execution_count": 108,
     "metadata": {},
     "output_type": "execute_result"
    }
   ],
   "source": [
    "pd.notnull(np.nan)"
   ]
  },
  {
   "cell_type": "code",
   "execution_count": 109,
   "metadata": {},
   "outputs": [
    {
     "data": {
      "text/plain": [
       "False"
      ]
     },
     "execution_count": 109,
     "metadata": {},
     "output_type": "execute_result"
    }
   ],
   "source": [
    "pd.notna(np.nan)"
   ]
  },
  {
   "cell_type": "code",
   "execution_count": 110,
   "metadata": {},
   "outputs": [
    {
     "data": {
      "text/plain": [
       "True"
      ]
     },
     "execution_count": 110,
     "metadata": {},
     "output_type": "execute_result"
    }
   ],
   "source": [
    "pd.notnull(3)"
   ]
  },
  {
   "cell_type": "code",
   "execution_count": 111,
   "metadata": {},
   "outputs": [
    {
     "data": {
      "text/plain": [
       "0    False\n",
       "1     True\n",
       "2    False\n",
       "dtype: bool"
      ]
     },
     "execution_count": 111,
     "metadata": {},
     "output_type": "execute_result"
    }
   ],
   "source": [
    "pd.isnull(pd.Series([1, np.nan, 7]))"
   ]
  },
  {
   "cell_type": "code",
   "execution_count": 112,
   "metadata": {},
   "outputs": [
    {
     "data": {
      "text/plain": [
       "0     True\n",
       "1    False\n",
       "2     True\n",
       "dtype: bool"
      ]
     },
     "execution_count": 112,
     "metadata": {},
     "output_type": "execute_result"
    }
   ],
   "source": [
    "pd.notnull(pd.Series([1, np.nan, 7]))"
   ]
  },
  {
   "cell_type": "code",
   "execution_count": 113,
   "metadata": {},
   "outputs": [
    {
     "data": {
      "text/html": [
       "<div>\n",
       "<style scoped>\n",
       "    .dataframe tbody tr th:only-of-type {\n",
       "        vertical-align: middle;\n",
       "    }\n",
       "\n",
       "    .dataframe tbody tr th {\n",
       "        vertical-align: top;\n",
       "    }\n",
       "\n",
       "    .dataframe thead th {\n",
       "        text-align: right;\n",
       "    }\n",
       "</style>\n",
       "<table border=\"1\" class=\"dataframe\">\n",
       "  <thead>\n",
       "    <tr style=\"text-align: right;\">\n",
       "      <th></th>\n",
       "      <th>Column A</th>\n",
       "      <th>Column B</th>\n",
       "      <th>Column C</th>\n",
       "    </tr>\n",
       "  </thead>\n",
       "  <tbody>\n",
       "    <tr>\n",
       "      <th>0</th>\n",
       "      <td>False</td>\n",
       "      <td>True</td>\n",
       "      <td>True</td>\n",
       "    </tr>\n",
       "    <tr>\n",
       "      <th>1</th>\n",
       "      <td>True</td>\n",
       "      <td>False</td>\n",
       "      <td>False</td>\n",
       "    </tr>\n",
       "    <tr>\n",
       "      <th>2</th>\n",
       "      <td>False</td>\n",
       "      <td>False</td>\n",
       "      <td>True</td>\n",
       "    </tr>\n",
       "  </tbody>\n",
       "</table>\n",
       "</div>"
      ],
      "text/plain": [
       "   Column A  Column B  Column C\n",
       "0     False      True      True\n",
       "1      True     False     False\n",
       "2     False     False      True"
      ]
     },
     "execution_count": 113,
     "metadata": {},
     "output_type": "execute_result"
    }
   ],
   "source": [
    "pd.isnull(pd.DataFrame({\n",
    "    'Column A': [1, np.nan, 7],\n",
    "    'Column B': [np.nan, 2, 3],\n",
    "    'Column C': [np.nan, 2, np.nan]\n",
    "}))"
   ]
  },
  {
   "cell_type": "code",
   "execution_count": 114,
   "metadata": {},
   "outputs": [],
   "source": [
    "s = pd.Series([1, 2, 3, np.nan, np.nan, 4])"
   ]
  },
  {
   "cell_type": "code",
   "execution_count": 115,
   "metadata": {},
   "outputs": [
    {
     "data": {
      "text/plain": [
       "0     True\n",
       "1     True\n",
       "2     True\n",
       "3    False\n",
       "4    False\n",
       "5     True\n",
       "dtype: bool"
      ]
     },
     "execution_count": 115,
     "metadata": {},
     "output_type": "execute_result"
    }
   ],
   "source": [
    "pd.notnull(s)"
   ]
  },
  {
   "cell_type": "code",
   "execution_count": 116,
   "metadata": {},
   "outputs": [
    {
     "data": {
      "text/plain": [
       "0    False\n",
       "1    False\n",
       "2    False\n",
       "3     True\n",
       "4     True\n",
       "5    False\n",
       "dtype: bool"
      ]
     },
     "execution_count": 116,
     "metadata": {},
     "output_type": "execute_result"
    }
   ],
   "source": [
    "pd.isnull(s)"
   ]
  },
  {
   "cell_type": "code",
   "execution_count": 117,
   "metadata": {},
   "outputs": [
    {
     "data": {
      "text/plain": [
       "4"
      ]
     },
     "execution_count": 117,
     "metadata": {},
     "output_type": "execute_result"
    }
   ],
   "source": [
    "pd.notnull(s).sum()"
   ]
  },
  {
   "cell_type": "code",
   "execution_count": 118,
   "metadata": {},
   "outputs": [
    {
     "data": {
      "text/plain": [
       "2"
      ]
     },
     "execution_count": 118,
     "metadata": {},
     "output_type": "execute_result"
    }
   ],
   "source": [
    "pd.isnull(s).sum()"
   ]
  },
  {
   "cell_type": "code",
   "execution_count": 119,
   "metadata": {},
   "outputs": [],
   "source": [
    "x = np.arange(-10, 11)"
   ]
  },
  {
   "cell_type": "code",
   "execution_count": 120,
   "metadata": {},
   "outputs": [
    {
     "data": {
      "text/plain": [
       "[<matplotlib.lines.Line2D at 0x1df24e9fef0>]"
      ]
     },
     "execution_count": 120,
     "metadata": {},
     "output_type": "execute_result"
    },
    {
     "data": {
      "image/png": "[encoded data removed]",
      "text/plain": [
       "<Figure size 864x432 with 1 Axes>"
      ]
     },
     "metadata": {
      "needs_background": "light"
     },
     "output_type": "display_data"
    }
   ],
   "source": [
    "plt.figure(figsize=(12, 6))\n",
    "\n",
    "plt.title('My good Plot')\n",
    "\n",
    "plt.plot(x, x ** 2)\n",
    "plt.plot(x, -1 * (x ** 2))"
   ]
  },
  {
   "cell_type": "code",
   "execution_count": 121,
   "metadata": {},
   "outputs": [
    {
     "data": {
      "text/plain": [
       "Text(0,0.5,'X Squared')"
      ]
     },
     "execution_count": 121,
     "metadata": {},
     "output_type": "execute_result"
    },
    {
     "data": {
      "image/png": "[encoded data removed]",
      "text/plain": [
       "<Figure size 864x432 with 2 Axes>"
      ]
     },
     "metadata": {
      "needs_background": "light"
     },
     "output_type": "display_data"
    }
   ],
   "source": [
    "plt.figure(figsize=(12, 6))\n",
    "plt.title('My Nice Plot')\n",
    "\n",
    "plt.subplot(1, 2, 1)  # rows, columns, panel selected\n",
    "plt.plot(x, x ** 2)\n",
    "plt.plot([0, 0, 0], [-10, 0, 100])\n",
    "plt.legend(['X^2', 'Vertical Line'])\n",
    "plt.xlabel('X')\n",
    "plt.ylabel('X Squared')\n",
    "\n",
    "plt.subplot(1, 2, 2)\n",
    "plt.plot(x, -1 * (x ** 2))\n",
    "plt.plot([-10, 0, 10], [-50, -50, -50])\n",
    "plt.legend(['-X^2', 'Horizontal Line'])\n",
    "\n",
    "plt.xlabel('X')\n",
    "plt.ylabel('X Squared')"
   ]
  },
  {
   "cell_type": "code",
   "execution_count": 122,
   "metadata": {},
   "outputs": [
    {
     "data": {
      "image/png": "[encoded data removed]",
      "text/plain": [
       "<Figure size 864x432 with 1 Axes>"
      ]
     },
     "metadata": {
      "needs_background": "light"
     },
     "output_type": "display_data"
    }
   ],
   "source": [
    "fig, axes = plt.subplots(figsize=(12, 6))"
   ]
  },
  {
   "cell_type": "code",
   "execution_count": 123,
   "metadata": {},
   "outputs": [
    {
     "data": {
      "image/png": "[encoded data removed]",
      "text/plain": [
       "<Figure size 864x432 with 1 Axes>"
      ]
     },
     "execution_count": 123,
     "metadata": {},
     "output_type": "execute_result"
    }
   ],
   "source": [
    "axes.plot(\n",
    "    x, (x ** 2), color='red', linewidth=3,\n",
    "    marker='o', markersize=8, label='X^2')\n",
    "\n",
    "axes.plot(x, -1 * (x ** 2), 'b--', label='-X^2')\n",
    "\n",
    "axes.set_xlabel('X')\n",
    "axes.set_ylabel('X Squared')\n",
    "\n",
    "axes.set_title(\"My Nice Plot\")\n",
    "\n",
    "axes.legend()\n",
    "\n",
    "fig"
   ]
  },
  {
   "cell_type": "code",
   "execution_count": 124,
   "metadata": {},
   "outputs": [],
   "source": [
    "import numpy as pd"
   ]
  },
  {
   "cell_type": "code",
   "execution_count": 125,
   "metadata": {},
   "outputs": [
    {
     "name": "stdout",
     "output_type": "stream",
     "text": [
      "[1 2 3]\n"
     ]
    }
   ],
   "source": [
    "a = np.array([1,2,3])\n",
    "print(a)"
   ]
  },
  {
   "cell_type": "code",
   "execution_count": 126,
   "metadata": {},
   "outputs": [
    {
     "data": {
      "text/plain": [
       "1"
      ]
     },
     "execution_count": 126,
     "metadata": {},
     "output_type": "execute_result"
    }
   ],
   "source": [
    "# Get Dimension\n",
    "a.ndim"
   ]
  },
  {
   "cell_type": "code",
   "execution_count": 127,
   "metadata": {},
   "outputs": [
    {
     "data": {
      "text/plain": [
       "(3,)"
      ]
     },
     "execution_count": 127,
     "metadata": {},
     "output_type": "execute_result"
    }
   ],
   "source": [
    "# get shape\n",
    "a.shape"
   ]
  },
  {
   "cell_type": "code",
   "execution_count": 128,
   "metadata": {},
   "outputs": [
    {
     "name": "stdout",
     "output_type": "stream",
     "text": [
      "[[1. 2. 3.]\n",
      " [3. 4. 5.]]\n"
     ]
    }
   ],
   "source": [
    "b = np.array([[1.0,2.0,3.0],[3.0,4.0,5.0]])\n",
    "print(b)"
   ]
  },
  {
   "cell_type": "code",
   "execution_count": 129,
   "metadata": {},
   "outputs": [
    {
     "data": {
      "text/plain": [
       "2"
      ]
     },
     "execution_count": 129,
     "metadata": {},
     "output_type": "execute_result"
    }
   ],
   "source": [
    "# Get Dimension\n",
    "b.ndim"
   ]
  },
  {
   "cell_type": "code",
   "execution_count": 130,
   "metadata": {},
   "outputs": [
    {
     "data": {
      "text/plain": [
       "(2, 3)"
      ]
     },
     "execution_count": 130,
     "metadata": {},
     "output_type": "execute_result"
    }
   ],
   "source": [
    "# Get Shape\n",
    "b.shape"
   ]
  },
  {
   "cell_type": "code",
   "execution_count": 131,
   "metadata": {},
   "outputs": [
    {
     "name": "stdout",
     "output_type": "stream",
     "text": [
      "[[ 1  2  3  4  5  6  7]\n",
      " [ 8  9 10 11 12 13 14]]\n"
     ]
    }
   ],
   "source": [
    "a = np.array([[1,2,3,4,5,6,7],[8,9,10,11,12,13,14]])\n",
    "print(a)"
   ]
  },
  {
   "cell_type": "code",
   "execution_count": 132,
   "metadata": {},
   "outputs": [
    {
     "data": {
      "text/plain": [
       "13"
      ]
     },
     "execution_count": 132,
     "metadata": {},
     "output_type": "execute_result"
    }
   ],
   "source": [
    "# get the specific ellement[r, c]\n",
    "a[1, 5]"
   ]
  },
  {
   "cell_type": "code",
   "execution_count": 133,
   "metadata": {},
   "outputs": [
    {
     "data": {
      "text/plain": [
       "array([ 3, 10])"
      ]
     },
     "execution_count": 133,
     "metadata": {},
     "output_type": "execute_result"
    }
   ],
   "source": [
    "# get specific culumb\n",
    "a[:, 2]"
   ]
  },
  {
   "cell_type": "code",
   "execution_count": 134,
   "metadata": {},
   "outputs": [
    {
     "data": {
      "text/plain": [
       "array([1, 2, 3, 4, 5, 6, 7])"
      ]
     },
     "execution_count": 134,
     "metadata": {},
     "output_type": "execute_result"
    }
   ],
   "source": [
    "# get specific row\n",
    "a[0, :]"
   ]
  },
  {
   "cell_type": "code",
   "execution_count": 135,
   "metadata": {},
   "outputs": [],
   "source": [
    "a = np.array([[1, 2, 3, 4, 5], [6, 7, 8, 9, 10]])\n",
    "\n",
    "# Output:\n",
    "# [[ 1  2  20  4  5]\n",
    "# [ 6  7 20  9 10]]\n"
   ]
  },
  {
   "cell_type": "code",
   "execution_count": 136,
   "metadata": {},
   "outputs": [
    {
     "name": "stdout",
     "output_type": "stream",
     "text": [
      "[[100 100 100 100 100]\n",
      " [100 100 100 100 100]]\n"
     ]
    }
   ],
   "source": [
    "a = np.array([[1, 2, 3, 4, 5], [6, 7, 8, 9, 10]])\n",
    "\n",
    "print(np.full_like(a, 100))\n"
   ]
  },
  {
   "cell_type": "code",
   "execution_count": 137,
   "metadata": {},
   "outputs": [
    {
     "data": {
      "text/plain": [
       "array([[[1, 1],\n",
       "        [1, 1]],\n",
       "\n",
       "       [[1, 1],\n",
       "        [1, 1]],\n",
       "\n",
       "       [[1, 1],\n",
       "        [1, 1]],\n",
       "\n",
       "       [[1, 1],\n",
       "        [1, 1]]])"
      ]
     },
     "execution_count": 137,
     "metadata": {},
     "output_type": "execute_result"
    }
   ],
   "source": [
    "# all 1s matrix\n",
    "np.ones((4,2,2), dtype='int32')"
   ]
  },
  {
   "cell_type": "code",
   "execution_count": 138,
   "metadata": {},
   "outputs": [
    {
     "data": {
      "text/plain": [
       "array([[0.89211892, 0.49021174, 0.70873218, 0.18775744, 0.22884501],\n",
       "       [0.35367815, 0.99907519, 0.44359732, 0.29439062, 0.39708025]])"
      ]
     },
     "execution_count": 138,
     "metadata": {},
     "output_type": "execute_result"
    }
   ],
   "source": [
    "# random decimal numbers\n",
    "np.random.random_sample(a. shape)"
   ]
  },
  {
   "cell_type": "code",
   "execution_count": 139,
   "metadata": {},
   "outputs": [
    {
     "data": {
      "text/plain": [
       "array([[1., 0., 0., 0., 0.],\n",
       "       [0., 1., 0., 0., 0.],\n",
       "       [0., 0., 1., 0., 0.],\n",
       "       [0., 0., 0., 1., 0.],\n",
       "       [0., 0., 0., 0., 1.]])"
      ]
     },
     "execution_count": 139,
     "metadata": {},
     "output_type": "execute_result"
    }
   ],
   "source": [
    "# the identity matrix\n",
    "np.identity(5)"
   ]
  },
  {
   "cell_type": "code",
   "execution_count": 140,
   "metadata": {},
   "outputs": [
    {
     "name": "stdout",
     "output_type": "stream",
     "text": [
      "[[1 2 3]\n",
      " [1 2 3]\n",
      " [1 2 3]]\n"
     ]
    }
   ],
   "source": [
    "arr = np.array([[1,2,3]])\n",
    "r1 = np.repeat(arr,3, axis=0)\n",
    "print(r1)\n"
   ]
  },
  {
   "cell_type": "code",
   "execution_count": 141,
   "metadata": {},
   "outputs": [
    {
     "name": "stdout",
     "output_type": "stream",
     "text": [
      "      Name  Age         City  Score\n",
      "0    Alice   24     New York     85\n",
      "1      Bob   27  Los Angeles     88\n",
      "2  Charlie   22      Chicago     90\n",
      "3    David   32      Houston     92\n",
      "4      Eva   29      Phoenix     95\n"
     ]
    }
   ],
   "source": [
    "import pandas as pd\n",
    "\n",
    "# Create a dictionary of data\n",
    "data = {\n",
    "    'Name': ['Alice', 'Bob', 'Charlie', 'David', 'Eva'],\n",
    "    'Age': [24, 27, 22, 32, 29],\n",
    "    'City': ['New York', 'Los Angeles', 'Chicago', 'Houston', 'Phoenix'],\n",
    "    'Score': [85, 88, 90, 92, 95]\n",
    "}\n",
    "\n",
    "# Convert the dictionary into a DataFrame\n",
    "df = pd.DataFrame(data)\n",
    "\n",
    "# Display the DataFrame\n",
    "print(df)\n"
   ]
  },
  {
   "cell_type": "code",
   "execution_count": 142,
   "metadata": {},
   "outputs": [
    {
     "name": "stdout",
     "output_type": "stream",
     "text": [
      "      Name         City\n",
      "0    Alice     New York\n",
      "1      Bob  Los Angeles\n",
      "2  Charlie      Chicago\n",
      "3    David      Houston\n",
      "4      Eva      Phoenix\n"
     ]
    }
   ],
   "source": [
    "# Select the 'Name' and 'City' columns\n",
    "print(df[['Name', 'City']])\n"
   ]
  },
  {
   "cell_type": "code",
   "execution_count": 143,
   "metadata": {},
   "outputs": [
    {
     "name": "stdout",
     "output_type": "stream",
     "text": [
      "    Name  Age         City  Score\n",
      "1    Bob   27  Los Angeles     88\n",
      "3  David   32      Houston     92\n",
      "4    Eva   29      Phoenix     95\n"
     ]
    }
   ],
   "source": [
    "# Filter rows where Age is greater than 25\n",
    "print(df[df['Age'] > 25])\n"
   ]
  },
  {
   "cell_type": "code",
   "execution_count": 144,
   "metadata": {},
   "outputs": [
    {
     "name": "stdout",
     "output_type": "stream",
     "text": [
      "      Name  Age         City  Score  Passed\n",
      "0    Alice   24     New York     85   False\n",
      "1      Bob   27  Los Angeles     88   False\n",
      "2  Charlie   22      Chicago     90    True\n",
      "3    David   32      Houston     92    True\n",
      "4      Eva   29      Phoenix     95    True\n"
     ]
    }
   ],
   "source": [
    "# Add a new column 'Passed' based on the 'Score'\n",
    "df['Passed'] = df['Score'] >= 90\n",
    "print(df)\n"
   ]
  },
  {
   "cell_type": "code",
   "execution_count": 145,
   "metadata": {},
   "outputs": [
    {
     "name": "stdout",
     "output_type": "stream",
     "text": [
      "Mean Age: 26.8\n",
      "Total Score: 450\n"
     ]
    }
   ],
   "source": [
    "# Calculate the mean age\n",
    "mean_age = df['Age'].mean()\n",
    "print(f'Mean Age: {mean_age}')\n",
    "\n",
    "# Calculate the sum of scores\n",
    "total_score = df['Score'].sum()\n",
    "print(f'Total Score: {total_score}')\n"
   ]
  },
  {
   "cell_type": "code",
   "execution_count": 146,
   "metadata": {},
   "outputs": [
    {
     "name": "stdout",
     "output_type": "stream",
     "text": [
      "City\n",
      "Chicago        90\n",
      "Houston        92\n",
      "Los Angeles    88\n",
      "New York       85\n",
      "Phoenix        95\n",
      "Name: Score, dtype: int64\n"
     ]
    }
   ],
   "source": [
    "# Group by 'City' and calculate the mean 'Score'\n",
    "grouped = df.groupby('City')['Score'].mean()\n",
    "print(grouped)"
   ]
  },
  {
   "cell_type": "code",
   "execution_count": 147,
   "metadata": {},
   "outputs": [
    {
     "name": "stdout",
     "output_type": "stream",
     "text": [
      "[ 1  2 20  4  5]\n"
     ]
    }
   ],
   "source": [
    "import numpy as np\n",
    "\n",
    "a = np.array([1, 2, 3, 4, 5])\n",
    "b = a\n",
    "b[2] = 20\n",
    "print(a)"
   ]
  },
  {
   "cell_type": "code",
   "execution_count": 148,
   "metadata": {},
   "outputs": [
    {
     "name": "stdout",
     "output_type": "stream",
     "text": [
      "15\n"
     ]
    }
   ],
   "source": [
    "import numpy as np\n",
    "\n",
    "a = np.array(([1, 2, 3, 4, 5], [6, 7, 8, 9, 10]))\n",
    "b = np.max(a, axis=1).sum()\n",
    "print(b)"
   ]
  },
  {
   "cell_type": "code",
   "execution_count": 149,
   "metadata": {},
   "outputs": [
    {
     "name": "stdout",
     "output_type": "stream",
     "text": [
      "1\n",
      "1\n"
     ]
    }
   ],
   "source": [
    "# Using a list as an array\n",
    "arr = [1, 2, 3, 4, 5]\n",
    "print(arr[0])  # Output: 1\n",
    "\n",
    "# Using numpy arrays\n",
    "import numpy as np\n",
    "arr = np.array([1, 2, 3, 4, 5])\n",
    "print(arr[0])  # Output: 1\n"
   ]
  },
  {
   "cell_type": "code",
   "execution_count": 150,
   "metadata": {},
   "outputs": [
    {
     "name": "stdout",
     "output_type": "stream",
     "text": [
      "2\n"
     ]
    }
   ],
   "source": [
    "# Two-dimensional array\n",
    "arr = [[1, 2], [3, 4], [5, 6]]\n",
    "print(arr[0][1])  # Output: 2\n"
   ]
  },
  {
   "cell_type": "code",
   "execution_count": 151,
   "metadata": {},
   "outputs": [
    {
     "name": "stdout",
     "output_type": "stream",
     "text": [
      "[[1. 1.]\n",
      " [1. 1.]\n",
      " [1. 1.]\n",
      " [1. 1.]]\n"
     ]
    }
   ],
   "source": [
    "a = np.ones((2, 4))\n",
    "b = a.reshape((4, 2))\n",
    "print(b)"
   ]
  },
  {
   "cell_type": "code",
   "execution_count": 157,
   "metadata": {},
   "outputs": [
    {
     "name": "stdout",
     "output_type": "stream",
     "text": [
      "Requirement already satisfied: pandas in c:\\programdata\\anaconda3\\lib\\site-packages (0.23.4)\n",
      "Requirement already satisfied: openpyxl in c:\\programdata\\anaconda3\\lib\\site-packages (2.5.6)\n",
      "Requirement already satisfied: python-dateutil>=2.5.0 in c:\\programdata\\anaconda3\\lib\\site-packages (from pandas) (2.7.3)\n",
      "Requirement already satisfied: pytz>=2011k in c:\\programdata\\anaconda3\\lib\\site-packages (from pandas) (2018.5)\n",
      "Requirement already satisfied: numpy>=1.9.0 in c:\\programdata\\anaconda3\\lib\\site-packages (from pandas) (1.15.1)\n",
      "Requirement already satisfied: jdcal in c:\\programdata\\anaconda3\\lib\\site-packages (from openpyxl) (1.4)\n",
      "Requirement already satisfied: et-xmlfile in c:\\programdata\\anaconda3\\lib\\site-packages (from openpyxl) (1.0.1)\n",
      "Requirement already satisfied: six>=1.5 in c:\\programdata\\anaconda3\\lib\\site-packages (from python-dateutil>=2.5.0->pandas) (1.11.0)\n"
     ]
    },
    {
     "name": "stderr",
     "output_type": "stream",
     "text": [
      "twisted 18.7.0 requires PyHamcrest>=1.9.0, which is not installed.\n",
      "You are using pip version 10.0.1, however version 24.0 is available.\n",
      "You should consider upgrading via the 'python -m pip install --upgrade pip' command.\n"
     ]
    }
   ],
   "source": [
    "! pip install pandas openpyxl\n"
   ]
  },
  {
   "cell_type": "markdown",
   "metadata": {},
   "source": [
    "loading the Data"
   ]
  },
  {
   "cell_type": "code",
   "execution_count": 158,
   "metadata": {},
   "outputs": [
    {
     "data": {
      "text/html": [
       "<div>\n",
       "<style scoped>\n",
       "    .dataframe tbody tr th:only-of-type {\n",
       "        vertical-align: middle;\n",
       "    }\n",
       "\n",
       "    .dataframe tbody tr th {\n",
       "        vertical-align: top;\n",
       "    }\n",
       "\n",
       "    .dataframe thead th {\n",
       "        text-align: right;\n",
       "    }\n",
       "</style>\n",
       "<table border=\"1\" class=\"dataframe\">\n",
       "  <thead>\n",
       "    <tr style=\"text-align: right;\">\n",
       "      <th></th>\n",
       "      <th>Show Number</th>\n",
       "      <th>Air Date</th>\n",
       "      <th>Round</th>\n",
       "      <th>Category</th>\n",
       "      <th>Value</th>\n",
       "      <th>Question</th>\n",
       "      <th>Answer</th>\n",
       "    </tr>\n",
       "  </thead>\n",
       "  <tbody>\n",
       "    <tr>\n",
       "      <th>0</th>\n",
       "      <td>4680</td>\n",
       "      <td>2004-12-31</td>\n",
       "      <td>Jeopardy!</td>\n",
       "      <td>HISTORY</td>\n",
       "      <td>200</td>\n",
       "      <td>For the last 8 years of his life, Galileo was ...</td>\n",
       "      <td>Copernicus</td>\n",
       "    </tr>\n",
       "    <tr>\n",
       "      <th>1</th>\n",
       "      <td>4680</td>\n",
       "      <td>2004-12-31</td>\n",
       "      <td>Jeopardy!</td>\n",
       "      <td>ESPN's TOP 10 ALL-TIME ATHLETES</td>\n",
       "      <td>200</td>\n",
       "      <td>No. 2: 1912 Olympian; football star at Carlisl...</td>\n",
       "      <td>Jim Thorpe</td>\n",
       "    </tr>\n",
       "    <tr>\n",
       "      <th>2</th>\n",
       "      <td>4680</td>\n",
       "      <td>2004-12-31</td>\n",
       "      <td>Jeopardy!</td>\n",
       "      <td>EVERYBODY TALKS ABOUT IT...</td>\n",
       "      <td>200</td>\n",
       "      <td>The city of Yuma in this state has a record av...</td>\n",
       "      <td>Arizona</td>\n",
       "    </tr>\n",
       "    <tr>\n",
       "      <th>3</th>\n",
       "      <td>4680</td>\n",
       "      <td>2004-12-31</td>\n",
       "      <td>Jeopardy!</td>\n",
       "      <td>THE COMPANY LINE</td>\n",
       "      <td>200</td>\n",
       "      <td>In 1963, live on \"The Art Linkletter Show\", th...</td>\n",
       "      <td>McDonald's</td>\n",
       "    </tr>\n",
       "    <tr>\n",
       "      <th>4</th>\n",
       "      <td>4680</td>\n",
       "      <td>2004-12-31</td>\n",
       "      <td>Jeopardy!</td>\n",
       "      <td>EPITAPHS &amp; TRIBUTES</td>\n",
       "      <td>200</td>\n",
       "      <td>Signer of the Dec. of Indep., framer of the Co...</td>\n",
       "      <td>John Adams</td>\n",
       "    </tr>\n",
       "  </tbody>\n",
       "</table>\n",
       "</div>"
      ],
      "text/plain": [
       "   Show Number   Air Date      Round                         Category  Value  \\\n",
       "0         4680 2004-12-31  Jeopardy!                          HISTORY    200   \n",
       "1         4680 2004-12-31  Jeopardy!  ESPN's TOP 10 ALL-TIME ATHLETES    200   \n",
       "2         4680 2004-12-31  Jeopardy!      EVERYBODY TALKS ABOUT IT...    200   \n",
       "3         4680 2004-12-31  Jeopardy!                 THE COMPANY LINE    200   \n",
       "4         4680 2004-12-31  Jeopardy!              EPITAPHS & TRIBUTES    200   \n",
       "\n",
       "                                            Question      Answer  \n",
       "0  For the last 8 years of his life, Galileo was ...  Copernicus  \n",
       "1  No. 2: 1912 Olympian; football star at Carlisl...  Jim Thorpe  \n",
       "2  The city of Yuma in this state has a record av...     Arizona  \n",
       "3  In 1963, live on \"The Art Linkletter Show\", th...  McDonald's  \n",
       "4  Signer of the Dec. of Indep., framer of the Co...  John Adams  "
      ]
     },
     "execution_count": 158,
     "metadata": {},
     "output_type": "execute_result"
    }
   ],
   "source": [
    "import pandas as pd\n",
    "\n",
    "# Load the Excel file\n",
    "file_path = 'C:\\\\Users\\\\lion\\\\Desktop\\\\JEOPARDY_CSV.xlsx'  # Update with your file path\n",
    "df = pd.read_excel(file_path)\n",
    "\n",
    "# Display the first few rows of the dataframe\n",
    "df.head()\n"
   ]
  },
  {
   "cell_type": "markdown",
   "metadata": {},
   "source": [
    "Data Cleaning"
   ]
  },
  {
   "cell_type": "code",
   "execution_count": 159,
   "metadata": {},
   "outputs": [
    {
     "name": "stdout",
     "output_type": "stream",
     "text": [
      "Show Number      0\n",
      "Air Date         0\n",
      "Round            0\n",
      "Category       152\n",
      "Value            0\n",
      "Question         2\n",
      "Answer          34\n",
      "dtype: int64\n"
     ]
    }
   ],
   "source": [
    "# Strip any leading or trailing spaces from column names\n",
    "df.columns = df.columns.str.strip()\n",
    "\n",
    "# Check for missing values\n",
    "print(df.isnull().sum())\n",
    "\n",
    "# Handle missing values (if any)\n",
    "df.dropna(inplace=True)  # Drop rows with any missing values\n"
   ]
  },
  {
   "cell_type": "markdown",
   "metadata": {},
   "source": [
    "Data Exploration"
   ]
  },
  {
   "cell_type": "code",
   "execution_count": 160,
   "metadata": {},
   "outputs": [
    {
     "name": "stdout",
     "output_type": "stream",
     "text": [
      "         Show Number\n",
      "count  216742.000000\n",
      "mean     4263.930872\n",
      "std      1386.465023\n",
      "min         1.000000\n",
      "25%      3349.000000\n",
      "50%      4490.000000\n",
      "75%      5393.000000\n",
      "max      6300.000000\n",
      "BEFORE & AFTER             547\n",
      "SCIENCE                    518\n",
      "LITERATURE                 496\n",
      "AMERICAN HISTORY           418\n",
      "POTPOURRI                  401\n",
      "WORLD HISTORY              377\n",
      "WORD ORIGINS               371\n",
      "COLLEGES & UNIVERSITIES    351\n",
      "HISTORY                    349\n",
      "SPORTS                     342\n",
      "Name: Category, dtype: int64\n",
      "Jeopardy!           107293\n",
      "Double Jeopardy!    105817\n",
      "Final Jeopardy!       3629\n",
      "Tiebreaker               3\n",
      "Name: Round, dtype: int64\n"
     ]
    }
   ],
   "source": [
    "# Basic statistics\n",
    "print(df.describe())\n",
    "\n",
    "# Value counts for categorical columns\n",
    "print(df['Category'].value_counts().head(10))\n",
    "print(df['Round'].value_counts())\n"
   ]
  },
  {
   "cell_type": "markdown",
   "metadata": {},
   "source": [
    "Data Visualisation"
   ]
  },
  {
   "cell_type": "code",
   "execution_count": 161,
   "metadata": {},
   "outputs": [
    {
     "data": {
      "image/png": "[encoded data removed]",
      "text/plain": [
       "<Figure size 720x432 with 1 Axes>"
      ]
     },
     "metadata": {
      "needs_background": "light"
     },
     "output_type": "display_data"
    },
    {
     "data": {
      "image/png": "[encoded data removed]",
      "text/plain": [
       "<Figure size 720x432 with 1 Axes>"
      ]
     },
     "metadata": {
      "needs_background": "light"
     },
     "output_type": "display_data"
    }
   ],
   "source": [
    "import pandas as pd\n",
    "import numpy as np\n",
    "import matplotlib.pyplot as plt\n",
    "\n",
    "# Update with your actual file path\n",
    "file_path = 'C:\\\\Users\\\\lion\\\\Desktop\\\\JEOPARDY_CSV.xlsx'\n",
    "df = pd.read_excel(file_path)\n",
    "\n",
    "# Strip any leading or trailing spaces from column names\n",
    "df.columns = df.columns.str.strip()\n",
    "\n",
    "# Clean the 'Value' column\n",
    "# Remove any leading/trailing spaces in 'Value' entries\n",
    "df['Value'] = df['Value'].str.strip()\n",
    "\n",
    "# Replace non-numeric values with a default numeric value (0 in this case)\n",
    "df['Value'].replace(to_replace=r'[^0-9]', value='0', regex=True, inplace=True)\n",
    "\n",
    "# Convert 'Value' to numeric\n",
    "df['Value'] = pd.to_numeric(df['Value'])\n",
    "\n",
    "# Ensure 'Value' is in float format\n",
    "df['Value'] = df['Value'].astype(float)\n",
    "\n",
    "# Convert 'Air Date' to datetime\n",
    "df['Air Date'] = pd.to_datetime(df['Air Date'])\n",
    "\n",
    "# Extract only the date part from 'Air Date'\n",
    "df['Air Date'] = df['Air Date'].dt.date\n",
    "\n",
    "# Distribution of question values\n",
    "plt.figure(figsize=(10, 6))\n",
    "df['Value'].value_counts().sort_index().plot(kind='bar')\n",
    "plt.title('Distribution of Question Values')\n",
    "plt.xlabel('Value')\n",
    "plt.ylabel('Count')\n",
    "plt.show()\n",
    "\n",
    "# Plot the number of questions over time\n",
    "plt.figure(figsize=(10, 6))\n",
    "df.groupby('Air Date').size().plot()\n",
    "plt.title('Number of Questions Over Time')\n",
    "plt.xlabel('Date')\n",
    "plt.ylabel('Number of Questions')\n",
    "plt.show()\n"
   ]
  },
  {
   "cell_type": "markdown",
   "metadata": {},
   "source": [
    "data transforming"
   ]
  },
  {
   "cell_type": "code",
   "execution_count": 162,
   "metadata": {},
   "outputs": [],
   "source": [
    "# Example: Extract year from a date column\n",
    "# df['Year'] = df['Date'].dt.year\n"
   ]
  },
  {
   "cell_type": "code",
   "execution_count": 173,
   "metadata": {},
   "outputs": [],
   "source": [
    "# Reporting\n",
    "# Summarize findings in a report or presentation\n",
    "\n",
    "# Actionable Insights\n",
    "# Draw conclusions and make recommendations based on the analysis"
   ]
  }
 ],
 "metadata": {
  "kernelspec": {
   "display_name": "Python 3",
   "language": "python",
   "name": "python3"
  },
  "language_info": {
   "codemirror_mode": {
    "name": "ipython",
    "version": 3
   },
   "file_extension": ".py",
   "mimetype": "text/x-python",
   "name": "python",
   "nbconvert_exporter": "python",
   "pygments_lexer": "ipython3",
   "version": "3.7.0"
  }
 },
 "nbformat": 4,
 "nbformat_minor": 2
}
